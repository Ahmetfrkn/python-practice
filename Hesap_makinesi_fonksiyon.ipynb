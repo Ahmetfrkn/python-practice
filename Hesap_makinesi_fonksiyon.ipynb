{
  "nbformat": 4,
  "nbformat_minor": 0,
  "metadata": {
    "colab": {
      "provenance": []
    },
    "kernelspec": {
      "name": "python3",
      "display_name": "Python 3"
    },
    "language_info": {
      "name": "python"
    }
  },
  "cells": [
    {
      "cell_type": "code",
      "execution_count": 1,
      "metadata": {
        "colab": {
          "base_uri": "https://localhost:8080/"
        },
        "id": "WumzurC9IbrZ",
        "outputId": "72d0636f-ee78-4262-fd1b-8d773b2a193d"
      },
      "outputs": [
        {
          "output_type": "stream",
          "name": "stdout",
          "text": [
            "İşlem Seçin: +, -, *, /\n",
            "İşlem: +\n",
            "1. sayı: 29\n",
            "2. sayı: 11\n",
            "Sonuç: 40.0\n"
          ]
        }
      ],
      "source": [
        "def topla(a, b):\n",
        "    return a + b\n",
        "\n",
        "def cikar(a, b):\n",
        "    return a - b\n",
        "\n",
        "def carp(a, b):\n",
        "    return a * b\n",
        "\n",
        "def bol(a, b):\n",
        "    if b != 0:\n",
        "        return a / b\n",
        "    else:\n",
        "        return \"Sıfıra bölünemez!\"\n",
        "\n",
        "print(\"İşlem Seçin: +, -, *, /\")\n",
        "secim = input(\"İşlem: \")\n",
        "sayi1 = float(input(\"1. sayı: \"))\n",
        "sayi2 = float(input(\"2. sayı: \"))\n",
        "\n",
        "if secim == \"+\":\n",
        "    print(\"Sonuç:\", topla(sayi1, sayi2))\n",
        "elif secim == \"-\":\n",
        "    print(\"Sonuç:\", cikar(sayi1, sayi2))\n",
        "elif secim == \"*\":\n",
        "    print(\"Sonuç:\", carp(sayi1, sayi2))\n",
        "elif secim == \"/\":\n",
        "    print(\"Sonuç:\", bol(sayi1, sayi2))\n",
        "else:\n",
        "    print(\"Geçersiz işlem!\")\n"
      ]
    }
  ]
}