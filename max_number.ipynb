{
  "nbformat": 4,
  "nbformat_minor": 0,
  "metadata": {
    "colab": {
      "provenance": []
    },
    "kernelspec": {
      "name": "python3",
      "display_name": "Python 3"
    },
    "language_info": {
      "name": "python"
    }
  },
  "cells": [
    {
      "cell_type": "code",
      "execution_count": 2,
      "metadata": {
        "colab": {
          "base_uri": "https://localhost:8080/"
        },
        "id": "ZUYQw1D8BVLy",
        "outputId": "bc1427a9-3435-4d9d-8ffc-2704c81656f7"
      },
      "outputs": [
        {
          "output_type": "stream",
          "name": "stdout",
          "text": [
            "1. sayıyı girin: 45\n",
            "2. sayıyı girin: 56\n",
            "3. sayıyı girin: 67\n",
            "4. sayıyı girin: 90\n",
            "5. sayıyı girin: 1\n",
            "En büyük sayı :  90\n"
          ]
        }
      ],
      "source": [
        "en_buyuk = None\n",
        "\n",
        "for i in range (1,6):\n",
        "    sayi = int(input(f\"{i}. sayıyı girin: \"))\n",
        "    if en_buyuk is None or sayi > en_buyuk:\n",
        "      en_buyuk = sayi\n",
        "\n",
        "print(\"En büyük sayı : \", en_buyuk)"
      ]
    }
  ]
}