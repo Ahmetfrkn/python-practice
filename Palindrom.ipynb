{
  "nbformat": 4,
  "nbformat_minor": 0,
  "metadata": {
    "colab": {
      "provenance": []
    },
    "kernelspec": {
      "name": "python3",
      "display_name": "Python 3"
    },
    "language_info": {
      "name": "python"
    }
  },
  "cells": [
    {
      "cell_type": "code",
      "execution_count": 3,
      "metadata": {
        "colab": {
          "base_uri": "https://localhost:8080/"
        },
        "id": "dyTmB7gCx-eK",
        "outputId": "965ca266-9eb5-4559-cf37-b1a610cfee05"
      },
      "outputs": [
        {
          "output_type": "stream",
          "name": "stdout",
          "text": [
            "['ada', 'kayak', 'ama', 'radar']\n"
          ]
        }
      ],
      "source": [
        "import string\n",
        "\n",
        "text = \"Ada kayak yapmaya bayılır, ama radar kelimesi de ilginçtir.\"\n",
        "text = text.lower()\n",
        "\n",
        "for i in string.punctuation :\n",
        " text = text.replace(i , \"\")\n",
        "\n",
        "text_1 = text.split()\n",
        "\n",
        "palindromlar = []\n",
        "\n",
        "for i in text_1 :\n",
        "  if i == i[::-1]:\n",
        "    palindromlar.append(i)\n",
        "\n",
        "print(palindromlar)\n",
        "\n"
      ]
    }
  ]
}