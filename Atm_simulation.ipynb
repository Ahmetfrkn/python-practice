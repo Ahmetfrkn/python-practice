{
  "nbformat": 4,
  "nbformat_minor": 0,
  "metadata": {
    "colab": {
      "provenance": []
    },
    "kernelspec": {
      "name": "python3",
      "display_name": "Python 3"
    },
    "language_info": {
      "name": "python"
    }
  },
  "cells": [
    {
      "cell_type": "code",
      "execution_count": 1,
      "metadata": {
        "colab": {
          "base_uri": "https://localhost:8080/"
        },
        "id": "8hA0M3crGTYK",
        "outputId": "545a7bf0-498f-4c0a-c494-6a01cbb11f9c"
      },
      "outputs": [
        {
          "output_type": "stream",
          "name": "stdout",
          "text": [
            "\n",
            "İŞLEMLER:\n",
            "1. Bakiye Görüntüle\n",
            "2. Para Yatır\n",
            "3. Para Çek\n",
            "4. Çıkış\n",
            "Seçiminizi girin (1-4): 1\n",
            "Bakiyeniz: 1000\n",
            "\n",
            "İŞLEMLER:\n",
            "1. Bakiye Görüntüle\n",
            "2. Para Yatır\n",
            "3. Para Çek\n",
            "4. Çıkış\n",
            "Seçiminizi girin (1-4): 3\n",
            "Çekilecek miktarı girin: 500\n",
            "Yeni bakiye: 500.0\n",
            "\n",
            "İŞLEMLER:\n",
            "1. Bakiye Görüntüle\n",
            "2. Para Yatır\n",
            "3. Para Çek\n",
            "4. Çıkış\n",
            "Seçiminizi girin (1-4): 1\n",
            "Bakiyeniz: 500.0\n",
            "\n",
            "İŞLEMLER:\n",
            "1. Bakiye Görüntüle\n",
            "2. Para Yatır\n",
            "3. Para Çek\n",
            "4. Çıkış\n",
            "Seçiminizi girin (1-4): 2\n",
            "Yatırılacak miktarı girin: 10000\n",
            "Yeni bakiye: 10500.0\n",
            "\n",
            "İŞLEMLER:\n",
            "1. Bakiye Görüntüle\n",
            "2. Para Yatır\n",
            "3. Para Çek\n",
            "4. Çıkış\n",
            "Seçiminizi girin (1-4): 1\n",
            "Bakiyeniz: 10500.0\n",
            "\n",
            "İŞLEMLER:\n",
            "1. Bakiye Görüntüle\n",
            "2. Para Yatır\n",
            "3. Para Çek\n",
            "4. Çıkış\n",
            "Seçiminizi girin (1-4): 4\n",
            "Çıkış yapılıyor...\n"
          ]
        }
      ],
      "source": [
        "bakiye = 1000  # Başlangıç bakiyesi\n",
        "\n",
        "while True:\n",
        "    print(\"\\nİŞLEMLER:\")\n",
        "    print(\"1. Bakiye Görüntüle\")\n",
        "    print(\"2. Para Yatır\")\n",
        "    print(\"3. Para Çek\")\n",
        "    print(\"4. Çıkış\")\n",
        "\n",
        "    secim = input(\"Seçiminizi girin (1-4): \")\n",
        "\n",
        "    if secim == \"1\":\n",
        "        print(\"Bakiyeniz:\", bakiye)\n",
        "\n",
        "    elif secim == \"2\":\n",
        "        miktar = float(input(\"Yatırılacak miktarı girin: \"))\n",
        "        bakiye += miktar\n",
        "        print(\"Yeni bakiye:\", bakiye)\n",
        "\n",
        "    elif secim == \"3\":\n",
        "        miktar = float(input(\"Çekilecek miktarı girin: \"))\n",
        "        if miktar <= bakiye:\n",
        "            bakiye -= miktar\n",
        "            print(\"Yeni bakiye:\", bakiye)\n",
        "        else:\n",
        "            print(\"Yetersiz bakiye!\")\n",
        "\n",
        "    elif secim == \"4\":\n",
        "        print(\"Çıkış yapılıyor...\")\n",
        "        break\n",
        "\n",
        "    else:\n",
        "        print(\"Geçersiz seçim.\")\n"
      ]
    }
  ]
}