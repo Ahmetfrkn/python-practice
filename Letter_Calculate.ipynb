{
  "nbformat": 4,
  "nbformat_minor": 0,
  "metadata": {
    "colab": {
      "provenance": []
    },
    "kernelspec": {
      "name": "python3",
      "display_name": "Python 3"
    },
    "language_info": {
      "name": "python"
    }
  },
  "cells": [
    {
      "cell_type": "code",
      "execution_count": 5,
      "metadata": {
        "colab": {
          "base_uri": "https://localhost:8080/"
        },
        "id": "zoKHMwpw0-SZ",
        "outputId": "a786324c-ec52-4d8b-8984-a13d6dd4a809"
      },
      "outputs": [
        {
          "output_type": "stream",
          "name": "stdout",
          "text": [
            "['merhabadünya']\n"
          ]
        }
      ],
      "source": [
        "import string\n",
        "\n",
        "text = \"Merhaba dünya\"\n",
        "text = text.lower()\n",
        "\n",
        "# Noktalama ve boşlukları çıkar\n",
        "for i in string.punctuation:\n",
        "    text = text.replace(i, \"\")\n",
        "text = text.replace(\" \", \"\")\n",
        "\n",
        "# Harf frekanslarını tutmak için sözlük\n",
        "harf_sayilari = {}\n",
        "\n",
        "# Her harfi say\n",
        "for harf in text:\n",
        "    if harf in harf_sayilari:\n",
        "        harf_sayilari[harf] += 1\n",
        "    else:\n",
        "        harf_sayilari[harf] = 1\n",
        "\n",
        "# Harfleri alfabetik sırayla yazdır\n",
        "for harf in sorted(harf_sayilari):\n",
        "    print(f\"{harf}: {harf_sayilari[harf]}\")\n"
      ]
    }
  ]
}