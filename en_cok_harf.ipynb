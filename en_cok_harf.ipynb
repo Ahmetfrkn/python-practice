{
  "nbformat": 4,
  "nbformat_minor": 0,
  "metadata": {
    "colab": {
      "provenance": []
    },
    "kernelspec": {
      "name": "python3",
      "display_name": "Python 3"
    },
    "language_info": {
      "name": "python"
    }
  },
  "cells": [
    {
      "cell_type": "code",
      "execution_count": 5,
      "metadata": {
        "id": "QI8tfopufWpe",
        "colab": {
          "base_uri": "https://localhost:8080/"
        },
        "outputId": "dca1bc91-d688-4db6-84cf-d4a3c40bebab"
      },
      "outputs": [
        {
          "output_type": "stream",
          "name": "stdout",
          "text": [
            "Lütfen bir metin giriniz !ahmet\n",
            "En sık geçen harf :  12 5\n"
          ]
        }
      ],
      "source": [
        "import string\n",
        "\n",
        "metin = input(\"Lütfen bir metin giriniz: \")\n",
        "metin = metin.lower()\n",
        "\n",
        "# Noktalama işaretlerini ve boşlukları temizle\n",
        "for i in string.punctuation:\n",
        "    metin = metin.replace(i, \"\")\n",
        "metin = metin.replace(\" \", \"\")\n",
        "\n",
        "# Harf frekanslarını saymak için bir sözlük (dictionary) oluştur\n",
        "harf_sayilari = {}\n",
        "\n",
        "for harf in metin:\n",
        "    if harf in harf_sayilari:\n",
        "        harf_sayilari[harf] += 1\n",
        "    else:\n",
        "        harf_sayilari[harf] = 1\n",
        "\n",
        "# En çok geçen harfi bul\n",
        "en_cok_gecen_harf = max(harf_sayilari, key=harf_sayilari.get)\n",
        "frekans = harf_sayilari[en_cok_gecen_harf]\n",
        "\n",
        "print(f\"En sık geçen harf: '{en_cok_gecen_harf}' ({frekans} kez)\")\n"
      ]
    }
  ]
}