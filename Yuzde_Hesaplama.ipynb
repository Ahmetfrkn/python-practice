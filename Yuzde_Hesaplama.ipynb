{
  "nbformat": 4,
  "nbformat_minor": 0,
  "metadata": {
    "colab": {
      "provenance": []
    },
    "kernelspec": {
      "name": "python3",
      "display_name": "Python 3"
    },
    "language_info": {
      "name": "python"
    }
  },
  "cells": [
    {
      "cell_type": "code",
      "execution_count": 11,
      "metadata": {
        "colab": {
          "base_uri": "https://localhost:8080/"
        },
        "id": "0k6btMYwDJNO",
        "outputId": "021abd6e-c8a5-4962-c832-4c8e42902b95"
      },
      "outputs": [
        {
          "output_type": "stream",
          "name": "stdout",
          "text": [
            "Bir metin girin: ahmet\n",
            "a: 1 kez (%20.0)\n",
            "h: 1 kez (%20.0)\n",
            "m: 1 kez (%20.0)\n",
            "e: 1 kez (%20.0)\n",
            "t: 1 kez (%20.0)\n"
          ]
        }
      ],
      "source": [
        "import string\n",
        "\n",
        "text = input(\"Bir metin girin: \")\n",
        "text = text.lower()\n",
        "\n",
        "# Noktalama işaretlerini ve boşlukları temizle\n",
        "for i in string.punctuation + \" \":\n",
        "    text = text.replace(i, \"\")\n",
        "\n",
        "# Harf sayma\n",
        "harf_sayilari = {}\n",
        "\n",
        "for harf in text:\n",
        "    if harf in harf_sayilari:\n",
        "        harf_sayilari[harf] += 1\n",
        "    else:\n",
        "        harf_sayilari[harf] = 1\n",
        "\n",
        "# Toplam harf sayısı\n",
        "toplam = sum(harf_sayilari.values())\n",
        "\n",
        "# Yüzde hesaplama ve yazdırma\n",
        "for harf, adet in harf_sayilari.items():\n",
        "    oran = (adet / toplam) * 100\n",
        "    print(f\"{harf}: {adet} kez (%{oran:.1f})\")\n"
      ]
    }
  ]
}