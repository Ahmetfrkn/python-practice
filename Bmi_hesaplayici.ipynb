{
  "nbformat": 4,
  "nbformat_minor": 0,
  "metadata": {
    "colab": {
      "provenance": []
    },
    "kernelspec": {
      "name": "python3",
      "display_name": "Python 3"
    },
    "language_info": {
      "name": "python"
    }
  },
  "cells": [
    {
      "cell_type": "code",
      "execution_count": 1,
      "metadata": {
        "colab": {
          "base_uri": "https://localhost:8080/"
        },
        "id": "RwzLaEx5DArs",
        "outputId": "099e824e-2ef9-4382-9f11-aa41bf1ecd20"
      },
      "outputs": [
        {
          "output_type": "stream",
          "name": "stdout",
          "text": [
            "Boyunuzu metre cinsinden girin (örn: 1.75): 1.82\n",
            "Kilonuzu kg cinsinden girin: 67\n",
            "Vücut Kitle İndeksiniz: 20.23\n",
            "Durum: Normal\n"
          ]
        }
      ],
      "source": [
        "boy = float(input(\"Boyunuzu metre cinsinden girin (örn: 1.75): \"))\n",
        "kilo = float(input(\"Kilonuzu kg cinsinden girin: \"))\n",
        "\n",
        "bmi = kilo / (boy ** 2)\n",
        "print(\"Vücut Kitle İndeksiniz:\", round(bmi, 2))\n",
        "\n",
        "if bmi < 18.5:\n",
        "    print(\"Durum: Zayıf\")\n",
        "elif bmi < 24.9:\n",
        "    print(\"Durum: Normal\")\n",
        "elif bmi < 29.9:\n",
        "    print(\"Durum: Fazla kilolu\")\n",
        "else:\n",
        "    print(\"Durum: Obez\")\n"
      ]
    }
  ]
}