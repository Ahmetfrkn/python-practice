{
  "nbformat": 4,
  "nbformat_minor": 0,
  "metadata": {
    "colab": {
      "provenance": []
    },
    "kernelspec": {
      "name": "python3",
      "display_name": "Python 3"
    },
    "language_info": {
      "name": "python"
    }
  },
  "cells": [
    {
      "cell_type": "code",
      "execution_count": 6,
      "metadata": {
        "colab": {
          "base_uri": "https://localhost:8080/"
        },
        "id": "4MS9-n4VsyWy",
        "outputId": "71f03a6b-190a-4e33-e384-d9bbacac36a2"
      },
      "outputs": [
        {
          "output_type": "stream",
          "name": "stdout",
          "text": [
            "['güzel', 'çok', 'hava', 'Bugün']\n"
          ]
        }
      ],
      "source": [
        "import string\n",
        "\n",
        "metin = \"Bugün hava çok güzel\"\n",
        "\n",
        "metin_1 = metin.split()\n",
        "\n",
        "metin_1.reverse()\n",
        "\n",
        "print (metin_1)\n",
        "\n",
        "\n",
        "\n"
      ]
    }
  ]
}