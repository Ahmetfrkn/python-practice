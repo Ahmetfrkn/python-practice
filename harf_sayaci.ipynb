{
  "nbformat": 4,
  "nbformat_minor": 0,
  "metadata": {
    "colab": {
      "provenance": []
    },
    "kernelspec": {
      "name": "python3",
      "display_name": "Python 3"
    },
    "language_info": {
      "name": "python"
    }
  },
  "cells": [
    {
      "cell_type": "code",
      "execution_count": 5,
      "metadata": {
        "colab": {
          "base_uri": "https://localhost:8080/"
        },
        "collapsed": true,
        "id": "bvUN0KcMxd8S",
        "outputId": "ffaf67f0-059b-46ee-9ad6-dfc6888d2684"
      },
      "outputs": [
        {
          "output_type": "stream",
          "name": "stdout",
          "text": [
            "B: 1\n",
            "U: 1\n",
            "G: 2\n",
            "Ü: 2\n",
            "N: 1\n",
            "H: 1\n",
            "A: 2\n",
            "V: 1\n",
            "Ç: 1\n",
            "O: 1\n",
            "K: 1\n",
            "Z: 1\n",
            "E: 1\n",
            "L: 1\n"
          ]
        }
      ],
      "source": [
        "# Kullanıcıdan girdi alırken input() yerine sabit bir cümle kullanalım\n",
        "metin = \"Bugün hava çok güzel\"\n",
        "\n",
        "metin = metin.replace(\" \", \"\").lower()\n",
        "\n",
        "harf_sayilari = {}\n",
        "\n",
        "for harf in metin:\n",
        "    if harf in harf_sayilari:\n",
        "        harf_sayilari[harf] += 1\n",
        "    else:\n",
        "        harf_sayilari[harf] = 1\n",
        "\n",
        "for harf, sayi in harf_sayilari.items():\n",
        "    print(f\"{harf.upper()}: {sayi}\")\n"
      ]
    }
  ]
}