{
  "nbformat": 4,
  "nbformat_minor": 0,
  "metadata": {
    "colab": {
      "provenance": []
    },
    "kernelspec": {
      "name": "python3",
      "display_name": "Python 3"
    },
    "language_info": {
      "name": "python"
    }
  },
  "cells": [
    {
      "cell_type": "code",
      "execution_count": 1,
      "metadata": {
        "colab": {
          "base_uri": "https://localhost:8080/"
        },
        "id": "syZtnkpFD6Ph",
        "outputId": "406c7ff1-ac76-403a-c640-26c93d67080e"
      },
      "outputs": [
        {
          "output_type": "stream",
          "name": "stdout",
          "text": [
            "Birinci sayıyı girin: 10\n",
            "İkinci sayıyı girin: 20\n",
            "Yapmak istediğiniz işlem (+, -, *, /): +\n",
            "Sonuç: 30.0\n"
          ]
        }
      ],
      "source": [
        "sayi1 = float(input(\"Birinci sayıyı girin: \"))\n",
        "sayi2 = float(input(\"İkinci sayıyı girin: \"))\n",
        "islem = input(\"Yapmak istediğiniz işlem (+, -, *, /): \")\n",
        "\n",
        "if islem == \"+\":\n",
        "    print(\"Sonuç:\", sayi1 + sayi2)\n",
        "elif islem == \"-\":\n",
        "    print(\"Sonuç:\", sayi1 - sayi2)\n",
        "elif islem == \"*\":\n",
        "    print(\"Sonuç:\", sayi1 * sayi2)\n",
        "elif islem == \"/\":\n",
        "    if sayi2 != 0:\n",
        "        print(\"Sonuç:\", sayi1 / sayi2)\n",
        "    else:\n",
        "        print(\"Hata: Bir sayı sıfıra bölünemez!\")\n",
        "else:\n",
        "    print(\"Geçersiz işlem seçimi.\")\n"
      ]
    }
  ]
}