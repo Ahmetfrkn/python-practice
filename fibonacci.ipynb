{
  "nbformat": 4,
  "nbformat_minor": 0,
  "metadata": {
    "colab": {
      "provenance": []
    },
    "kernelspec": {
      "name": "python3",
      "display_name": "Python 3"
    },
    "language_info": {
      "name": "python"
    }
  },
  "cells": [
    {
      "cell_type": "code",
      "execution_count": 1,
      "metadata": {
        "colab": {
          "base_uri": "https://localhost:8080/"
        },
        "id": "ISFkmTSy_nL3",
        "outputId": "6df6744e-876f-43ef-9306-786e4ee53414"
      },
      "outputs": [
        {
          "output_type": "stream",
          "name": "stdout",
          "text": [
            "Kaç terimli Fibonacci Dizisi yazılsın istersiniz ? 10\n",
            "0\n",
            "1\n",
            "1\n",
            "2\n",
            "3\n",
            "5\n",
            "8\n",
            "13\n",
            "21\n",
            "34\n"
          ]
        }
      ],
      "source": [
        "n = int(input(\"Kaç terimli Fibonacci Dizisi yazılsın istersiniz ? \"))\n",
        "\n",
        "a , b = 0 , 1\n",
        "\n",
        "for i in range(n):\n",
        "  print(a)\n",
        "  a, b = b, a + b"
      ]
    }
  ]
}