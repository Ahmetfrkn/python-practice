{
  "nbformat": 4,
  "nbformat_minor": 0,
  "metadata": {
    "colab": {
      "provenance": []
    },
    "kernelspec": {
      "name": "python3",
      "display_name": "Python 3"
    },
    "language_info": {
      "name": "python"
    }
  },
  "cells": [
    {
      "cell_type": "code",
      "execution_count": null,
      "metadata": {
        "id": "AGr6J2CIMG5-"
      },
      "outputs": [],
      "source": [
        "from google.colab import files\n",
        "import string\n",
        "import re\n",
        "\n",
        "uploaded = files.upload()\n",
        "dosya_adi = list(uploaded.keys())[0]\n",
        "\n",
        "with open(dosya_adi, \"r\", encoding=\"utf-8\") as dosya:\n",
        "    metin = dosya.read()\n",
        "\n",
        "metin = metin.lower()\n",
        "\n",
        "#  Noktalama işaretlerini kaldır (cümle sonlandırıcılar hariç)\n",
        "for i in string.punctuation:\n",
        "    if i not in \".!?\":\n",
        "        metin = metin.replace(i, \"\")\n",
        "\n",
        "# Cümlelere ayır\n",
        "cumle_listesi = re.split(r\"[.!?]\", metin)\n",
        "\n",
        "# Boş olanları ayıkla\n",
        "cumle_listesi = [cumle.strip() for cumle in cumle_listesi if cumle.strip() != \"\"]\n",
        "\n",
        "for i, cumle in enumerate(cumle_listesi, start=1):\n",
        "    kelime_sayisi = len(cumle.split())\n",
        "    print(f\"{i}. cümlede {kelime_sayisi} kelime var.\")\n"
      ]
    }
  ]
}