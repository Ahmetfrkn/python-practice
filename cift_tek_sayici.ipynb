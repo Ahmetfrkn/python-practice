{
  "nbformat": 4,
  "nbformat_minor": 0,
  "metadata": {
    "colab": {
      "provenance": []
    },
    "kernelspec": {
      "name": "python3",
      "display_name": "Python 3"
    },
    "language_info": {
      "name": "python"
    }
  },
  "cells": [
    {
      "cell_type": "code",
      "execution_count": 2,
      "metadata": {
        "colab": {
          "base_uri": "https://localhost:8080/"
        },
        "id": "RMRfzvuo50KO",
        "outputId": "7c02ee07-fc91-4474-c6bf-65fbaf6d3b1a"
      },
      "outputs": [
        {
          "output_type": "stream",
          "name": "stdout",
          "text": [
            "Virgülle ayırarak sayılar girin: 5,6,7,8,9,90,23,34,45\n",
            "Çift sayı adedi: 4\n",
            "Tek sayı adedi: 5\n"
          ]
        }
      ],
      "source": [
        "girdi = input(\"Virgülle ayırarak sayılar girin: \")\n",
        "sayilar = [int(x.strip()) for x in girdi.split(\",\")]\n",
        "\n",
        "tek_sayac = 0\n",
        "cift_sayac = 0\n",
        "\n",
        "for sayi in sayilar:\n",
        "    if sayi % 2 == 0:\n",
        "        cift_sayac += 1\n",
        "    else:\n",
        "        tek_sayac += 1\n",
        "\n",
        "print(\"Çift sayı adedi:\", cift_sayac)\n",
        "print(\"Tek sayı adedi:\", tek_sayac)\n"
      ]
    }
  ]
}