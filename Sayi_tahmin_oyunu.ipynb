{
  "nbformat": 4,
  "nbformat_minor": 0,
  "metadata": {
    "colab": {
      "provenance": []
    },
    "kernelspec": {
      "name": "python3",
      "display_name": "Python 3"
    },
    "language_info": {
      "name": "python"
    }
  },
  "cells": [
    {
      "cell_type": "code",
      "execution_count": 2,
      "metadata": {
        "colab": {
          "base_uri": "https://localhost:8080/"
        },
        "id": "2oTWTsu888Pl",
        "outputId": "6219ae50-9c4f-4ecd-dc89-c16824a8ea8c"
      },
      "outputs": [
        {
          "output_type": "stream",
          "name": "stdout",
          "text": [
            "1 ile 100 arasında bir sayı tuttum. Tahmin et!\n",
            "Tahminin nedir? 50\n",
            "Daha küçük bir sayı dene.\n",
            "Tahminin nedir? 35\n",
            "Daha küçük bir sayı dene.\n",
            "Tahminin nedir? 23\n",
            "Daha küçük bir sayı dene.\n",
            "Tahminin nedir? 10\n",
            "Daha büyük bir sayı dene.\n",
            "Tahminin nedir? 15\n",
            "Daha büyük bir sayı dene.\n",
            "Tahminin nedir? 18\n",
            "🎉 Tebrikler! Doğru tahmin.\n"
          ]
        }
      ],
      "source": [
        "import random\n",
        "\n",
        "sayi = random.randint(1, 100)\n",
        "tahmin = -1  # kullanıcı henüz tahminde bulunmadı\n",
        "\n",
        "print(\"1 ile 100 arasında bir sayı tuttum. Tahmin et!\")\n",
        "\n",
        "while tahmin != sayi:\n",
        "    tahmin = int(input(\"Tahminin nedir? \"))\n",
        "\n",
        "    if tahmin < sayi:\n",
        "        print(\"Daha büyük bir sayı dene.\")\n",
        "    elif tahmin > sayi:\n",
        "        print(\"Daha küçük bir sayı dene.\")\n",
        "    else:\n",
        "        print(\"Tebrikler! Doğru tahmin.\")\n"
      ]
    }
  ]
}