{
  "nbformat": 4,
  "nbformat_minor": 0,
  "metadata": {
    "colab": {
      "provenance": []
    },
    "kernelspec": {
      "name": "python3",
      "display_name": "Python 3"
    },
    "language_info": {
      "name": "python"
    }
  },
  "cells": [
    {
      "cell_type": "code",
      "execution_count": 11,
      "metadata": {
        "colab": {
          "base_uri": "https://localhost:8080/"
        },
        "id": "ZsVr57oGuz-r",
        "outputId": "fe0fe5cf-6086-46b5-d0b1-65bfc22d8709"
      },
      "outputs": [
        {
          "output_type": "stream",
          "name": "stdout",
          "text": [
            "Benzersiz kelimeler: ['python', 'öğrenmek', 'çok', 'eğlenceli', 'çünkü', 'güçlü']\n"
          ]
        }
      ],
      "source": [
        "import string\n",
        "\n",
        "text = \"Python öğrenmek çok eğlenceli, çünkü Python çok güçlü!\"\n",
        "text = text.lower()\n",
        "\n",
        "for i in string.punctuation:\n",
        "    text = text.replace(i, \"\")\n",
        "\n",
        "kelimeler = text.split()\n",
        "benzersizler = []\n",
        "\n",
        "for kelime in kelimeler:\n",
        "    if kelime not in benzersizler:\n",
        "        benzersizler.append(kelime)\n",
        "\n",
        "print(\"Benzersiz kelimeler:\", benzersizler)\n"
      ]
    }
  ]
}