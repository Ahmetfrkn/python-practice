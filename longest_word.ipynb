{
  "nbformat": 4,
  "nbformat_minor": 0,
  "metadata": {
    "colab": {
      "provenance": []
    },
    "kernelspec": {
      "name": "python3",
      "display_name": "Python 3"
    },
    "language_info": {
      "name": "python"
    }
  },
  "cells": [
    {
      "cell_type": "code",
      "execution_count": 21,
      "metadata": {
        "colab": {
          "base_uri": "https://localhost:8080/"
        },
        "id": "KuwofUUzlxkw",
        "outputId": "51d26586-109b-406c-e470-d16601c11a79"
      },
      "outputs": [
        {
          "output_type": "stream",
          "name": "stdout",
          "text": [
            "En uzun kelime merak ediyorsanız :  öğrenmek\n"
          ]
        }
      ],
      "source": [
        "import string\n",
        "\n",
        "metin = \"Python öğrenmek çok keyifli ve eğitici\"\n",
        "metin = metin.lower()\n",
        "\n",
        "for i in string.punctuation:\n",
        "  metin = metin.replace(i , \"\")\n",
        "\n",
        "metin_kelime = metin.split(\" \")\n",
        "\n",
        "A = len(metin)\n",
        "B = len(metin_kelime)\n",
        "\n",
        "# print(A , metin , metin_kelime , B)  Yalnızca Baktım!\n",
        "\n",
        "en_uzun_kelime = \"A\"\n",
        "\n",
        "\n",
        "for i in metin_kelime :\n",
        "  if len(i) >= len(en_uzun_kelime) :\n",
        "    en_uzun_kelime = i\n",
        "\n",
        "print(\"En uzun kelime merak ediyorsanız : \", en_uzun_kelime)\n",
        "\n",
        "\n",
        "\n"
      ]
    }
  ]
}