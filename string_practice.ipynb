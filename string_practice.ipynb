{
  "nbformat": 4,
  "nbformat_minor": 0,
  "metadata": {
    "colab": {
      "provenance": []
    },
    "kernelspec": {
      "name": "python3",
      "display_name": "Python 3"
    },
    "language_info": {
      "name": "python"
    }
  },
  "cells": [
    {
      "cell_type": "code",
      "execution_count": 2,
      "metadata": {
        "colab": {
          "base_uri": "https://localhost:8080/"
        },
        "id": "nTWgnH7T234s",
        "outputId": "c02ca2ce-b311-48bc-8608-12e547d566e8"
      },
      "outputs": [
        {
          "output_type": "stream",
          "name": "stdout",
          "text": [
            "Bir cümle girin: Merhaba , dünya merhaba\n",
            "Toplam kelime sayısı: 4\n"
          ]
        }
      ],
      "source": [
        "import string\n",
        "\n",
        "cumle = input(\"Bir cümle girin: \")\n",
        "\n",
        "# Noktalama işaretlerini temizle\n",
        "temiz_cumle = \"\"\n",
        "for karakter in cumle:\n",
        "    if karakter not in string.punctuation:\n",
        "        temiz_cumle += karakter\n",
        "\n",
        "# Kelimelere ayır ve say\n",
        "kelimeler = temiz_cumle.split()\n",
        "kelime_sayisi = len(kelimeler)\n",
        "print(\"Toplam kelime sayısı:\", kelime_sayisi)\n"
      ]
    }
  ]
}